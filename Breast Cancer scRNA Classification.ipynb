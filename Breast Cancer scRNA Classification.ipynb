{
 "cells": [
  {
   "cell_type": "code",
   "execution_count": 1,
   "id": "3140171c",
   "metadata": {},
   "outputs": [
    {
     "name": "stderr",
     "output_type": "stream",
     "text": [
      "C:\\Users\\ssaba\\AppData\\Roaming\\Python\\Python39\\site-packages\\matplotlib\\projections\\__init__.py:63: UserWarning: Unable to import Axes3D. This may be due to multiple versions of Matplotlib being installed (e.g. as a system package and as a pip package). As a result, the 3D projection is not available.\n",
      "  warnings.warn(\"Unable to import Axes3D. This may be due to multiple versions of \"\n"
     ]
    }
   ],
   "source": [
    "import gzip\n",
    "import scanpy as sc\n",
    "import pandas as pd\n",
    "from sklearn.model_selection import train_test_split\n",
    "from sklearn.ensemble import RandomForestClassifier\n",
    "from sklearn.metrics import classification_report, confusion_matrix"
   ]
  },
  {
   "cell_type": "code",
   "execution_count": 2,
   "id": "42c7421f",
   "metadata": {},
   "outputs": [],
   "source": [
    "import matplotlib.pyplot as plt"
   ]
  },
  {
   "cell_type": "code",
   "execution_count": 3,
   "id": "e64dbb68",
   "metadata": {},
   "outputs": [],
   "source": [
    "expression_file = 'C:/Users/ssaba/OneDrive/Documents/Big Projects/scRNA Python/Datasets/GSE75688_GEO_processed_Breast_Cancer_raw_TPM_matrix.txt.gz'\n",
    "sample_info_file = 'C:/Users/ssaba/OneDrive/Documents/Big Projects/scRNA Python/Datasets/GSE75688_final_sample_information.txt.gz'"
   ]
  },
  {
   "cell_type": "code",
   "execution_count": 4,
   "id": "c79a01b6",
   "metadata": {},
   "outputs": [],
   "source": [
    "with gzip.open(expression_file, 'rt') as f:\n",
    "    expression_data = pd.read_csv(f, delimiter='\\t', index_col=0)"
   ]
  },
  {
   "cell_type": "code",
   "execution_count": 5,
   "id": "e78c5885",
   "metadata": {},
   "outputs": [],
   "source": [
    "pat = \"BC03|BC07\"\n",
    "exp_data = expression_data.iloc[:,expression_data.columns.str.contains(pat)]\n",
    "mask = ~exp_data.columns.str.contains(\"Pooled\")\n",
    "exp_data = exp_data.loc[:, mask]\n",
    "target_col = {col:\"TLN\" if \"LN\" in col else \"Tumour\" for col in exp_data.columns}"
   ]
  },
  {
   "cell_type": "code",
   "execution_count": 6,
   "id": "349ef420",
   "metadata": {},
   "outputs": [],
   "source": [
    "adata = sc.AnnData(exp_data.T)"
   ]
  },
  {
   "cell_type": "code",
   "execution_count": 7,
   "id": "01f3c938",
   "metadata": {},
   "outputs": [],
   "source": [
    "adata.obs[\"Target\"] = target_col.values()"
   ]
  },
  {
   "cell_type": "code",
   "execution_count": 8,
   "id": "c07c267a",
   "metadata": {},
   "outputs": [],
   "source": [
    "sc.pp.normalize_total(adata, target_sum=1e4)\n",
    "sc.pp.log1p(adata)\n",
    "sc.pp.scale(adata)\n",
    "sc.tl.pca(adata, n_comps=10)"
   ]
  },
  {
   "cell_type": "code",
   "execution_count": 9,
   "id": "a95f6a50",
   "metadata": {},
   "outputs": [],
   "source": [
    "sc.pp.highly_variable_genes(adata,subset=True, n_top_genes=2000)"
   ]
  },
  {
   "cell_type": "code",
   "execution_count": 10,
   "id": "c5e86e01",
   "metadata": {},
   "outputs": [
    {
     "data": {
      "text/plain": [
       "Index(['ENSG00000001561.6', 'ENSG00000001631.10', 'ENSG00000002330.9',\n",
       "       'ENSG00000003056.3', 'ENSG00000003436.10', 'ENSG00000004799.7',\n",
       "       'ENSG00000004975.7', 'ENSG00000005100.8', 'ENSG00000005243.5',\n",
       "       'ENSG00000005700.10',\n",
       "       ...\n",
       "       'ENSG00000272966.1', 'ENSG00000272990.1', 'ENSG00000273221.1',\n",
       "       'ENSG00000273259.1', 'ENSG00000273320.1', 'ENSG00000273345.1',\n",
       "       'ENSG00000273424.1', 'ENSG00000273449.1', 'ENSG00000273451.1',\n",
       "       'ENSG00000273489.1'],\n",
       "      dtype='object', name='gene_id', length=2000)"
      ]
     },
     "execution_count": 10,
     "metadata": {},
     "output_type": "execute_result"
    }
   ],
   "source": [
    "adata.var_names"
   ]
  },
  {
   "cell_type": "code",
   "execution_count": 11,
   "id": "26ee6f81",
   "metadata": {},
   "outputs": [
    {
     "data": {
      "text/html": [
       "<div>\n",
       "<style scoped>\n",
       "    .dataframe tbody tr th:only-of-type {\n",
       "        vertical-align: middle;\n",
       "    }\n",
       "\n",
       "    .dataframe tbody tr th {\n",
       "        vertical-align: top;\n",
       "    }\n",
       "\n",
       "    .dataframe thead th {\n",
       "        text-align: right;\n",
       "    }\n",
       "</style>\n",
       "<table border=\"1\" class=\"dataframe\">\n",
       "  <thead>\n",
       "    <tr style=\"text-align: right;\">\n",
       "      <th></th>\n",
       "      <th>Target</th>\n",
       "    </tr>\n",
       "  </thead>\n",
       "  <tbody>\n",
       "    <tr>\n",
       "      <th>BC07_Tumor</th>\n",
       "      <td>Tumour</td>\n",
       "    </tr>\n",
       "    <tr>\n",
       "      <th>BC03_03</th>\n",
       "      <td>Tumour</td>\n",
       "    </tr>\n",
       "    <tr>\n",
       "      <th>BC03_06</th>\n",
       "      <td>Tumour</td>\n",
       "    </tr>\n",
       "    <tr>\n",
       "      <th>BC03_09</th>\n",
       "      <td>Tumour</td>\n",
       "    </tr>\n",
       "    <tr>\n",
       "      <th>BC03_11</th>\n",
       "      <td>Tumour</td>\n",
       "    </tr>\n",
       "    <tr>\n",
       "      <th>...</th>\n",
       "      <td>...</td>\n",
       "    </tr>\n",
       "    <tr>\n",
       "      <th>BC07LN_90</th>\n",
       "      <td>TLN</td>\n",
       "    </tr>\n",
       "    <tr>\n",
       "      <th>BC07LN_91</th>\n",
       "      <td>TLN</td>\n",
       "    </tr>\n",
       "    <tr>\n",
       "      <th>BC07LN_94</th>\n",
       "      <td>TLN</td>\n",
       "    </tr>\n",
       "    <tr>\n",
       "      <th>BC07LN_95</th>\n",
       "      <td>TLN</td>\n",
       "    </tr>\n",
       "    <tr>\n",
       "      <th>BC07LN_96</th>\n",
       "      <td>TLN</td>\n",
       "    </tr>\n",
       "  </tbody>\n",
       "</table>\n",
       "<p>197 rows × 1 columns</p>\n",
       "</div>"
      ],
      "text/plain": [
       "            Target\n",
       "BC07_Tumor  Tumour\n",
       "BC03_03     Tumour\n",
       "BC03_06     Tumour\n",
       "BC03_09     Tumour\n",
       "BC03_11     Tumour\n",
       "...            ...\n",
       "BC07LN_90      TLN\n",
       "BC07LN_91      TLN\n",
       "BC07LN_94      TLN\n",
       "BC07LN_95      TLN\n",
       "BC07LN_96      TLN\n",
       "\n",
       "[197 rows x 1 columns]"
      ]
     },
     "execution_count": 11,
     "metadata": {},
     "output_type": "execute_result"
    }
   ],
   "source": [
    "adata.obs"
   ]
  },
  {
   "cell_type": "code",
   "execution_count": 12,
   "id": "9f11c9b9",
   "metadata": {},
   "outputs": [
    {
     "data": {
      "text/plain": [
       "array([[ 9.11296546e-02,  5.77406412e-01,  3.65301351e-03, ...,\n",
       "         4.89703847e+00,  1.02973417e-02,  1.45418851e-01],\n",
       "       [-3.08470439e-01, -4.90250857e-01, -3.49352189e-01, ...,\n",
       "        -9.20487245e-02, -1.78026939e-01, -3.54455370e-01],\n",
       "       [-3.08470439e-01, -4.90250857e-01, -3.49352189e-01, ...,\n",
       "        -9.20487245e-02, -1.78026939e-01,  2.59851812e+00],\n",
       "       ...,\n",
       "       [-3.08470439e-01, -4.80544696e-01, -2.81293095e-01, ...,\n",
       "        -9.20487245e-02, -1.78026939e-01, -3.72283240e-01],\n",
       "       [-3.08470439e-01,  2.77465463e-01, -3.49352189e-01, ...,\n",
       "        -9.20487245e-02, -1.78026939e-01, -3.40935895e-01],\n",
       "       [-3.08470439e-01, -4.90250857e-01, -3.49352189e-01, ...,\n",
       "        -9.20487245e-02, -1.78026939e-01, -3.72283240e-01]])"
      ]
     },
     "execution_count": 12,
     "metadata": {},
     "output_type": "execute_result"
    }
   ],
   "source": [
    "adata.X"
   ]
  },
  {
   "cell_type": "code",
   "execution_count": 13,
   "id": "95f35013",
   "metadata": {},
   "outputs": [],
   "source": [
    "df = pd.DataFrame(adata.X, columns = adata.var_names, index = adata.obs_names)"
   ]
  },
  {
   "cell_type": "code",
   "execution_count": 14,
   "id": "4886358c",
   "metadata": {},
   "outputs": [
    {
     "data": {
      "text/plain": [
       "(197, 2000)"
      ]
     },
     "execution_count": 14,
     "metadata": {},
     "output_type": "execute_result"
    }
   ],
   "source": [
    "df.shape"
   ]
  },
  {
   "cell_type": "code",
   "execution_count": 15,
   "id": "f5a10934",
   "metadata": {},
   "outputs": [
    {
     "ename": "NameError",
     "evalue": "name 'gene_expression' is not defined",
     "output_type": "error",
     "traceback": [
      "\u001b[1;31m---------------------------------------------------------------------------\u001b[0m",
      "\u001b[1;31mNameError\u001b[0m                                 Traceback (most recent call last)",
      "\u001b[1;32m~\\AppData\\Local\\Temp\\ipykernel_7320\\2096565376.py\u001b[0m in \u001b[0;36m<module>\u001b[1;34m\u001b[0m\n\u001b[0;32m      1\u001b[0m \u001b[1;32mimport\u001b[0m \u001b[0mseaborn\u001b[0m \u001b[1;32mas\u001b[0m \u001b[0msns\u001b[0m\u001b[1;33m\u001b[0m\u001b[1;33m\u001b[0m\u001b[0m\n\u001b[1;32m----> 2\u001b[1;33m \u001b[0mall_values\u001b[0m \u001b[1;33m=\u001b[0m \u001b[0mgene_expression\u001b[0m\u001b[1;33m.\u001b[0m\u001b[0mvalues\u001b[0m\u001b[1;33m.\u001b[0m\u001b[0mflatten\u001b[0m\u001b[1;33m(\u001b[0m\u001b[1;33m)\u001b[0m\u001b[1;33m\u001b[0m\u001b[1;33m\u001b[0m\u001b[0m\n\u001b[0m\u001b[0;32m      3\u001b[0m \u001b[1;33m\u001b[0m\u001b[0m\n\u001b[0;32m      4\u001b[0m \u001b[1;31m# Plot the overall distribution\u001b[0m\u001b[1;33m\u001b[0m\u001b[1;33m\u001b[0m\u001b[0m\n\u001b[0;32m      5\u001b[0m \u001b[0msns\u001b[0m\u001b[1;33m.\u001b[0m\u001b[0mhistplot\u001b[0m\u001b[1;33m(\u001b[0m\u001b[0mall_values\u001b[0m\u001b[1;33m,\u001b[0m \u001b[0mbins\u001b[0m\u001b[1;33m=\u001b[0m\u001b[1;36m100\u001b[0m\u001b[1;33m,\u001b[0m \u001b[0mkde\u001b[0m\u001b[1;33m=\u001b[0m\u001b[1;32mTrue\u001b[0m\u001b[1;33m)\u001b[0m\u001b[1;33m\u001b[0m\u001b[1;33m\u001b[0m\u001b[0m\n",
      "\u001b[1;31mNameError\u001b[0m: name 'gene_expression' is not defined"
     ]
    }
   ],
   "source": [
    "import seaborn as sns\n",
    "all_values = gene_expression.values.flatten()\n",
    "\n",
    "# Plot the overall distribution\n",
    "sns.histplot(all_values, bins=100, kde=True)\n",
    "plt.title('Overall Distribution of Gene Expression Values')\n",
    "plt.xlabel('Expression Level')\n",
    "plt.ylabel('Frequency')\n",
    "plt.show()"
   ]
  },
  {
   "cell_type": "code",
   "execution_count": 15,
   "id": "44ec13b4",
   "metadata": {},
   "outputs": [
    {
     "data": {
      "text/html": [
       "<div>\n",
       "<style scoped>\n",
       "    .dataframe tbody tr th:only-of-type {\n",
       "        vertical-align: middle;\n",
       "    }\n",
       "\n",
       "    .dataframe tbody tr th {\n",
       "        vertical-align: top;\n",
       "    }\n",
       "\n",
       "    .dataframe thead th {\n",
       "        text-align: right;\n",
       "    }\n",
       "</style>\n",
       "<table border=\"1\" class=\"dataframe\">\n",
       "  <thead>\n",
       "    <tr style=\"text-align: right;\">\n",
       "      <th>gene_id</th>\n",
       "      <th>ENSG00000001561.6</th>\n",
       "      <th>ENSG00000001631.10</th>\n",
       "      <th>ENSG00000002330.9</th>\n",
       "      <th>ENSG00000003056.3</th>\n",
       "      <th>ENSG00000003436.10</th>\n",
       "      <th>ENSG00000004799.7</th>\n",
       "      <th>ENSG00000004975.7</th>\n",
       "      <th>ENSG00000005100.8</th>\n",
       "      <th>ENSG00000005243.5</th>\n",
       "      <th>ENSG00000005700.10</th>\n",
       "      <th>...</th>\n",
       "      <th>ENSG00000272966.1</th>\n",
       "      <th>ENSG00000272990.1</th>\n",
       "      <th>ENSG00000273221.1</th>\n",
       "      <th>ENSG00000273259.1</th>\n",
       "      <th>ENSG00000273320.1</th>\n",
       "      <th>ENSG00000273345.1</th>\n",
       "      <th>ENSG00000273424.1</th>\n",
       "      <th>ENSG00000273449.1</th>\n",
       "      <th>ENSG00000273451.1</th>\n",
       "      <th>ENSG00000273489.1</th>\n",
       "    </tr>\n",
       "  </thead>\n",
       "  <tbody>\n",
       "    <tr>\n",
       "      <th>BC07_Tumor</th>\n",
       "      <td>0.091130</td>\n",
       "      <td>0.577406</td>\n",
       "      <td>0.003653</td>\n",
       "      <td>1.370028</td>\n",
       "      <td>0.202626</td>\n",
       "      <td>0.176885</td>\n",
       "      <td>-0.124550</td>\n",
       "      <td>-0.114687</td>\n",
       "      <td>1.833266</td>\n",
       "      <td>0.283443</td>\n",
       "      <td>...</td>\n",
       "      <td>-0.09865</td>\n",
       "      <td>-0.124703</td>\n",
       "      <td>1.070900</td>\n",
       "      <td>-0.182148</td>\n",
       "      <td>-0.177956</td>\n",
       "      <td>-0.065038</td>\n",
       "      <td>-0.167344</td>\n",
       "      <td>4.897038</td>\n",
       "      <td>0.010297</td>\n",
       "      <td>0.145419</td>\n",
       "    </tr>\n",
       "    <tr>\n",
       "      <th>BC03_03</th>\n",
       "      <td>-0.308470</td>\n",
       "      <td>-0.490251</td>\n",
       "      <td>-0.349352</td>\n",
       "      <td>1.407542</td>\n",
       "      <td>-0.331565</td>\n",
       "      <td>-0.181651</td>\n",
       "      <td>-0.197900</td>\n",
       "      <td>0.455748</td>\n",
       "      <td>-0.106144</td>\n",
       "      <td>-0.608594</td>\n",
       "      <td>...</td>\n",
       "      <td>-0.09865</td>\n",
       "      <td>-0.224135</td>\n",
       "      <td>-0.203544</td>\n",
       "      <td>-0.182148</td>\n",
       "      <td>-0.177956</td>\n",
       "      <td>-0.282549</td>\n",
       "      <td>-0.167344</td>\n",
       "      <td>-0.092049</td>\n",
       "      <td>-0.178027</td>\n",
       "      <td>-0.354455</td>\n",
       "    </tr>\n",
       "    <tr>\n",
       "      <th>BC03_06</th>\n",
       "      <td>-0.308470</td>\n",
       "      <td>-0.490251</td>\n",
       "      <td>-0.349352</td>\n",
       "      <td>-0.034456</td>\n",
       "      <td>-0.336960</td>\n",
       "      <td>-0.181651</td>\n",
       "      <td>-0.197900</td>\n",
       "      <td>0.409725</td>\n",
       "      <td>-0.106144</td>\n",
       "      <td>-0.608594</td>\n",
       "      <td>...</td>\n",
       "      <td>-0.09865</td>\n",
       "      <td>-0.224135</td>\n",
       "      <td>-0.203544</td>\n",
       "      <td>-0.182148</td>\n",
       "      <td>-0.177956</td>\n",
       "      <td>-0.033273</td>\n",
       "      <td>-0.167344</td>\n",
       "      <td>-0.092049</td>\n",
       "      <td>-0.178027</td>\n",
       "      <td>2.598518</td>\n",
       "    </tr>\n",
       "    <tr>\n",
       "      <th>BC03_09</th>\n",
       "      <td>-0.308470</td>\n",
       "      <td>0.697497</td>\n",
       "      <td>-0.349352</td>\n",
       "      <td>-0.655066</td>\n",
       "      <td>2.768817</td>\n",
       "      <td>-0.181651</td>\n",
       "      <td>-0.197900</td>\n",
       "      <td>-0.311299</td>\n",
       "      <td>-0.106144</td>\n",
       "      <td>0.556501</td>\n",
       "      <td>...</td>\n",
       "      <td>-0.09865</td>\n",
       "      <td>-0.224135</td>\n",
       "      <td>-0.203544</td>\n",
       "      <td>-0.182148</td>\n",
       "      <td>-0.177956</td>\n",
       "      <td>-0.282549</td>\n",
       "      <td>-0.167344</td>\n",
       "      <td>-0.092049</td>\n",
       "      <td>-0.178027</td>\n",
       "      <td>1.762013</td>\n",
       "    </tr>\n",
       "    <tr>\n",
       "      <th>BC03_11</th>\n",
       "      <td>0.627934</td>\n",
       "      <td>-0.490251</td>\n",
       "      <td>-0.349352</td>\n",
       "      <td>0.006041</td>\n",
       "      <td>1.405165</td>\n",
       "      <td>-0.181651</td>\n",
       "      <td>-0.197900</td>\n",
       "      <td>-0.197178</td>\n",
       "      <td>-0.106144</td>\n",
       "      <td>3.994792</td>\n",
       "      <td>...</td>\n",
       "      <td>-0.09865</td>\n",
       "      <td>-0.224135</td>\n",
       "      <td>-0.086401</td>\n",
       "      <td>-0.182148</td>\n",
       "      <td>-0.177956</td>\n",
       "      <td>-0.282549</td>\n",
       "      <td>-0.167344</td>\n",
       "      <td>-0.092049</td>\n",
       "      <td>-0.178027</td>\n",
       "      <td>-0.372283</td>\n",
       "    </tr>\n",
       "    <tr>\n",
       "      <th>...</th>\n",
       "      <td>...</td>\n",
       "      <td>...</td>\n",
       "      <td>...</td>\n",
       "      <td>...</td>\n",
       "      <td>...</td>\n",
       "      <td>...</td>\n",
       "      <td>...</td>\n",
       "      <td>...</td>\n",
       "      <td>...</td>\n",
       "      <td>...</td>\n",
       "      <td>...</td>\n",
       "      <td>...</td>\n",
       "      <td>...</td>\n",
       "      <td>...</td>\n",
       "      <td>...</td>\n",
       "      <td>...</td>\n",
       "      <td>...</td>\n",
       "      <td>...</td>\n",
       "      <td>...</td>\n",
       "      <td>...</td>\n",
       "      <td>...</td>\n",
       "    </tr>\n",
       "    <tr>\n",
       "      <th>BC07LN_90</th>\n",
       "      <td>-0.308470</td>\n",
       "      <td>0.425073</td>\n",
       "      <td>-0.349352</td>\n",
       "      <td>-0.655066</td>\n",
       "      <td>-0.335506</td>\n",
       "      <td>-0.181651</td>\n",
       "      <td>10.907255</td>\n",
       "      <td>-0.367174</td>\n",
       "      <td>-0.106144</td>\n",
       "      <td>-0.608594</td>\n",
       "      <td>...</td>\n",
       "      <td>-0.09865</td>\n",
       "      <td>-0.224135</td>\n",
       "      <td>-0.203544</td>\n",
       "      <td>-0.182148</td>\n",
       "      <td>-0.177956</td>\n",
       "      <td>-0.282549</td>\n",
       "      <td>-0.167344</td>\n",
       "      <td>-0.092049</td>\n",
       "      <td>-0.178027</td>\n",
       "      <td>-0.372283</td>\n",
       "    </tr>\n",
       "    <tr>\n",
       "      <th>BC07LN_91</th>\n",
       "      <td>0.638791</td>\n",
       "      <td>-0.316096</td>\n",
       "      <td>-0.286664</td>\n",
       "      <td>-0.083706</td>\n",
       "      <td>-0.332187</td>\n",
       "      <td>-0.181651</td>\n",
       "      <td>-0.112830</td>\n",
       "      <td>-0.120248</td>\n",
       "      <td>-0.106144</td>\n",
       "      <td>-0.580661</td>\n",
       "      <td>...</td>\n",
       "      <td>-0.09865</td>\n",
       "      <td>-0.224135</td>\n",
       "      <td>-0.037642</td>\n",
       "      <td>-0.182148</td>\n",
       "      <td>-0.177956</td>\n",
       "      <td>-0.282549</td>\n",
       "      <td>-0.167344</td>\n",
       "      <td>-0.092049</td>\n",
       "      <td>-0.178027</td>\n",
       "      <td>-0.372283</td>\n",
       "    </tr>\n",
       "    <tr>\n",
       "      <th>BC07LN_94</th>\n",
       "      <td>-0.308470</td>\n",
       "      <td>-0.480545</td>\n",
       "      <td>-0.281293</td>\n",
       "      <td>2.505363</td>\n",
       "      <td>-0.336960</td>\n",
       "      <td>-0.174234</td>\n",
       "      <td>-0.197900</td>\n",
       "      <td>1.848152</td>\n",
       "      <td>-0.106144</td>\n",
       "      <td>2.540791</td>\n",
       "      <td>...</td>\n",
       "      <td>-0.09865</td>\n",
       "      <td>-0.224135</td>\n",
       "      <td>-0.128659</td>\n",
       "      <td>-0.182148</td>\n",
       "      <td>-0.177956</td>\n",
       "      <td>-0.282549</td>\n",
       "      <td>-0.167344</td>\n",
       "      <td>-0.092049</td>\n",
       "      <td>-0.178027</td>\n",
       "      <td>-0.372283</td>\n",
       "    </tr>\n",
       "    <tr>\n",
       "      <th>BC07LN_95</th>\n",
       "      <td>-0.308470</td>\n",
       "      <td>0.277465</td>\n",
       "      <td>-0.349352</td>\n",
       "      <td>-0.655066</td>\n",
       "      <td>-0.336960</td>\n",
       "      <td>-0.181651</td>\n",
       "      <td>-0.145069</td>\n",
       "      <td>-0.367174</td>\n",
       "      <td>-0.106144</td>\n",
       "      <td>-0.233316</td>\n",
       "      <td>...</td>\n",
       "      <td>-0.09865</td>\n",
       "      <td>-0.224135</td>\n",
       "      <td>-0.203544</td>\n",
       "      <td>-0.182148</td>\n",
       "      <td>-0.177956</td>\n",
       "      <td>-0.233104</td>\n",
       "      <td>-0.167344</td>\n",
       "      <td>-0.092049</td>\n",
       "      <td>-0.178027</td>\n",
       "      <td>-0.340936</td>\n",
       "    </tr>\n",
       "    <tr>\n",
       "      <th>BC07LN_96</th>\n",
       "      <td>-0.308470</td>\n",
       "      <td>-0.490251</td>\n",
       "      <td>-0.349352</td>\n",
       "      <td>-0.655066</td>\n",
       "      <td>-0.336960</td>\n",
       "      <td>-0.181651</td>\n",
       "      <td>-0.197900</td>\n",
       "      <td>-0.367174</td>\n",
       "      <td>-0.106144</td>\n",
       "      <td>2.471902</td>\n",
       "      <td>...</td>\n",
       "      <td>-0.09865</td>\n",
       "      <td>-0.224135</td>\n",
       "      <td>-0.203544</td>\n",
       "      <td>-0.182148</td>\n",
       "      <td>-0.177956</td>\n",
       "      <td>-0.282549</td>\n",
       "      <td>-0.167344</td>\n",
       "      <td>-0.092049</td>\n",
       "      <td>-0.178027</td>\n",
       "      <td>-0.372283</td>\n",
       "    </tr>\n",
       "  </tbody>\n",
       "</table>\n",
       "<p>197 rows × 2000 columns</p>\n",
       "</div>"
      ],
      "text/plain": [
       "gene_id     ENSG00000001561.6  ENSG00000001631.10  ENSG00000002330.9  \\\n",
       "BC07_Tumor           0.091130            0.577406           0.003653   \n",
       "BC03_03             -0.308470           -0.490251          -0.349352   \n",
       "BC03_06             -0.308470           -0.490251          -0.349352   \n",
       "BC03_09             -0.308470            0.697497          -0.349352   \n",
       "BC03_11              0.627934           -0.490251          -0.349352   \n",
       "...                       ...                 ...                ...   \n",
       "BC07LN_90           -0.308470            0.425073          -0.349352   \n",
       "BC07LN_91            0.638791           -0.316096          -0.286664   \n",
       "BC07LN_94           -0.308470           -0.480545          -0.281293   \n",
       "BC07LN_95           -0.308470            0.277465          -0.349352   \n",
       "BC07LN_96           -0.308470           -0.490251          -0.349352   \n",
       "\n",
       "gene_id     ENSG00000003056.3  ENSG00000003436.10  ENSG00000004799.7  \\\n",
       "BC07_Tumor           1.370028            0.202626           0.176885   \n",
       "BC03_03              1.407542           -0.331565          -0.181651   \n",
       "BC03_06             -0.034456           -0.336960          -0.181651   \n",
       "BC03_09             -0.655066            2.768817          -0.181651   \n",
       "BC03_11              0.006041            1.405165          -0.181651   \n",
       "...                       ...                 ...                ...   \n",
       "BC07LN_90           -0.655066           -0.335506          -0.181651   \n",
       "BC07LN_91           -0.083706           -0.332187          -0.181651   \n",
       "BC07LN_94            2.505363           -0.336960          -0.174234   \n",
       "BC07LN_95           -0.655066           -0.336960          -0.181651   \n",
       "BC07LN_96           -0.655066           -0.336960          -0.181651   \n",
       "\n",
       "gene_id     ENSG00000004975.7  ENSG00000005100.8  ENSG00000005243.5  \\\n",
       "BC07_Tumor          -0.124550          -0.114687           1.833266   \n",
       "BC03_03             -0.197900           0.455748          -0.106144   \n",
       "BC03_06             -0.197900           0.409725          -0.106144   \n",
       "BC03_09             -0.197900          -0.311299          -0.106144   \n",
       "BC03_11             -0.197900          -0.197178          -0.106144   \n",
       "...                       ...                ...                ...   \n",
       "BC07LN_90           10.907255          -0.367174          -0.106144   \n",
       "BC07LN_91           -0.112830          -0.120248          -0.106144   \n",
       "BC07LN_94           -0.197900           1.848152          -0.106144   \n",
       "BC07LN_95           -0.145069          -0.367174          -0.106144   \n",
       "BC07LN_96           -0.197900          -0.367174          -0.106144   \n",
       "\n",
       "gene_id     ENSG00000005700.10  ...  ENSG00000272966.1  ENSG00000272990.1  \\\n",
       "BC07_Tumor            0.283443  ...           -0.09865          -0.124703   \n",
       "BC03_03              -0.608594  ...           -0.09865          -0.224135   \n",
       "BC03_06              -0.608594  ...           -0.09865          -0.224135   \n",
       "BC03_09               0.556501  ...           -0.09865          -0.224135   \n",
       "BC03_11               3.994792  ...           -0.09865          -0.224135   \n",
       "...                        ...  ...                ...                ...   \n",
       "BC07LN_90            -0.608594  ...           -0.09865          -0.224135   \n",
       "BC07LN_91            -0.580661  ...           -0.09865          -0.224135   \n",
       "BC07LN_94             2.540791  ...           -0.09865          -0.224135   \n",
       "BC07LN_95            -0.233316  ...           -0.09865          -0.224135   \n",
       "BC07LN_96             2.471902  ...           -0.09865          -0.224135   \n",
       "\n",
       "gene_id     ENSG00000273221.1  ENSG00000273259.1  ENSG00000273320.1  \\\n",
       "BC07_Tumor           1.070900          -0.182148          -0.177956   \n",
       "BC03_03             -0.203544          -0.182148          -0.177956   \n",
       "BC03_06             -0.203544          -0.182148          -0.177956   \n",
       "BC03_09             -0.203544          -0.182148          -0.177956   \n",
       "BC03_11             -0.086401          -0.182148          -0.177956   \n",
       "...                       ...                ...                ...   \n",
       "BC07LN_90           -0.203544          -0.182148          -0.177956   \n",
       "BC07LN_91           -0.037642          -0.182148          -0.177956   \n",
       "BC07LN_94           -0.128659          -0.182148          -0.177956   \n",
       "BC07LN_95           -0.203544          -0.182148          -0.177956   \n",
       "BC07LN_96           -0.203544          -0.182148          -0.177956   \n",
       "\n",
       "gene_id     ENSG00000273345.1  ENSG00000273424.1  ENSG00000273449.1  \\\n",
       "BC07_Tumor          -0.065038          -0.167344           4.897038   \n",
       "BC03_03             -0.282549          -0.167344          -0.092049   \n",
       "BC03_06             -0.033273          -0.167344          -0.092049   \n",
       "BC03_09             -0.282549          -0.167344          -0.092049   \n",
       "BC03_11             -0.282549          -0.167344          -0.092049   \n",
       "...                       ...                ...                ...   \n",
       "BC07LN_90           -0.282549          -0.167344          -0.092049   \n",
       "BC07LN_91           -0.282549          -0.167344          -0.092049   \n",
       "BC07LN_94           -0.282549          -0.167344          -0.092049   \n",
       "BC07LN_95           -0.233104          -0.167344          -0.092049   \n",
       "BC07LN_96           -0.282549          -0.167344          -0.092049   \n",
       "\n",
       "gene_id     ENSG00000273451.1  ENSG00000273489.1  \n",
       "BC07_Tumor           0.010297           0.145419  \n",
       "BC03_03             -0.178027          -0.354455  \n",
       "BC03_06             -0.178027           2.598518  \n",
       "BC03_09             -0.178027           1.762013  \n",
       "BC03_11             -0.178027          -0.372283  \n",
       "...                       ...                ...  \n",
       "BC07LN_90           -0.178027          -0.372283  \n",
       "BC07LN_91           -0.178027          -0.372283  \n",
       "BC07LN_94           -0.178027          -0.372283  \n",
       "BC07LN_95           -0.178027          -0.340936  \n",
       "BC07LN_96           -0.178027          -0.372283  \n",
       "\n",
       "[197 rows x 2000 columns]"
      ]
     },
     "execution_count": 15,
     "metadata": {},
     "output_type": "execute_result"
    }
   ],
   "source": [
    "df"
   ]
  },
  {
   "cell_type": "code",
   "execution_count": 16,
   "id": "bb65a0bd",
   "metadata": {},
   "outputs": [],
   "source": [
    "target = adata.obs.Target"
   ]
  },
  {
   "cell_type": "code",
   "execution_count": null,
   "id": "5e0defe1",
   "metadata": {},
   "outputs": [],
   "source": [
    "#############################"
   ]
  },
  {
   "cell_type": "code",
   "execution_count": 17,
   "id": "2d18d2b8",
   "metadata": {},
   "outputs": [
    {
     "data": {
      "text/plain": [
       "RandomForestClassifier(n_jobs=10)"
      ]
     },
     "execution_count": 17,
     "metadata": {},
     "output_type": "execute_result"
    }
   ],
   "source": [
    "rfc = RandomForestClassifier(n_jobs=10, n_estimators=100)\n",
    "rfc.fit(adata.X,target)"
   ]
  },
  {
   "cell_type": "code",
   "execution_count": 18,
   "id": "81395e95",
   "metadata": {},
   "outputs": [
    {
     "data": {
      "text/plain": [
       "array([0.00060548, 0.00033489, 0.        , ..., 0.        , 0.00020013,\n",
       "       0.00018344])"
      ]
     },
     "execution_count": 18,
     "metadata": {},
     "output_type": "execute_result"
    }
   ],
   "source": [
    "rfc.feature_importances_"
   ]
  },
  {
   "cell_type": "code",
   "execution_count": 19,
   "id": "9d0308a4",
   "metadata": {},
   "outputs": [],
   "source": [
    "importance_df = pd.DataFrame(rfc.feature_importances_, adata.var_names).sort_values(0,ascending=False)"
   ]
  },
  {
   "cell_type": "code",
   "execution_count": 24,
   "id": "11d8482f",
   "metadata": {},
   "outputs": [],
   "source": [
    "importance_df.columns = [\"importance\"]"
   ]
  },
  {
   "cell_type": "code",
   "execution_count": null,
   "id": "1de4d29f",
   "metadata": {},
   "outputs": [],
   "source": [
    "##########################"
   ]
  },
  {
   "cell_type": "code",
   "execution_count": null,
   "id": "609e534c",
   "metadata": {},
   "outputs": [],
   "source": []
  },
  {
   "cell_type": "code",
   "execution_count": 34,
   "id": "e163bda3",
   "metadata": {},
   "outputs": [],
   "source": [
    "X_train, X_test, y_train, y_test = train_test_split(df,target,test_size=0.2,random_state=42)"
   ]
  },
  {
   "cell_type": "code",
   "execution_count": 35,
   "id": "6dfd9fcc",
   "metadata": {},
   "outputs": [
    {
     "data": {
      "text/plain": [
       "RandomForestClassifier(n_jobs=10)"
      ]
     },
     "execution_count": 35,
     "metadata": {},
     "output_type": "execute_result"
    }
   ],
   "source": [
    "RFC = RandomForestClassifier(n_jobs=10,n_estimators=100)\n",
    "RFC.fit(X_train,y_train)"
   ]
  },
  {
   "cell_type": "code",
   "execution_count": 37,
   "id": "c8fd28f1",
   "metadata": {},
   "outputs": [],
   "source": [
    "y_preds = RFC.predict(X_test)"
   ]
  },
  {
   "cell_type": "code",
   "execution_count": 39,
   "id": "275691cf",
   "metadata": {},
   "outputs": [],
   "source": [
    "from sklearn.metrics import accuracy_score"
   ]
  },
  {
   "cell_type": "code",
   "execution_count": 40,
   "id": "a3d56643",
   "metadata": {},
   "outputs": [],
   "source": [
    "accuracy = accuracy_score(y_test, y_preds)"
   ]
  },
  {
   "cell_type": "code",
   "execution_count": 41,
   "id": "693e1451",
   "metadata": {},
   "outputs": [
    {
     "data": {
      "text/plain": [
       "0.725"
      ]
     },
     "execution_count": 41,
     "metadata": {},
     "output_type": "execute_result"
    }
   ],
   "source": [
    "accuracy"
   ]
  },
  {
   "cell_type": "code",
   "execution_count": 31,
   "id": "f35c40aa",
   "metadata": {},
   "outputs": [
    {
     "name": "stdout",
     "output_type": "stream",
     "text": [
      "Defaulting to user installation because normal site-packages is not writeable\n",
      "Collecting leidenalg\n",
      "  Downloading leidenalg-0.10.2-cp38-abi3-win_amd64.whl (1.6 MB)\n",
      "     ---------------------------------------- 1.6/1.6 MB 2.1 MB/s eta 0:00:00\n",
      "Requirement already satisfied: igraph<0.12,>=0.10.0 in c:\\users\\ssaba\\appdata\\roaming\\python\\python39\\site-packages (from leidenalg) (0.11.6)\n",
      "Requirement already satisfied: texttable>=1.6.2 in c:\\users\\ssaba\\appdata\\roaming\\python\\python39\\site-packages (from igraph<0.12,>=0.10.0->leidenalg) (1.7.0)\n",
      "Installing collected packages: leidenalg\n",
      "Successfully installed leidenalg-0.10.2\n"
     ]
    },
    {
     "name": "stderr",
     "output_type": "stream",
     "text": [
      "WARNING: Ignoring invalid distribution -rotobuf (c:\\users\\ssaba\\appdata\\roaming\\python\\python39\\site-packages)\n",
      "WARNING: Ignoring invalid distribution -rotobuf (c:\\users\\ssaba\\appdata\\roaming\\python\\python39\\site-packages)\n",
      "WARNING: Ignoring invalid distribution -rotobuf (c:\\users\\ssaba\\appdata\\roaming\\python\\python39\\site-packages)\n",
      "WARNING: Ignoring invalid distribution -rotobuf (c:\\users\\ssaba\\appdata\\roaming\\python\\python39\\site-packages)\n",
      "WARNING: Ignoring invalid distribution -rotobuf (c:\\users\\ssaba\\appdata\\roaming\\python\\python39\\site-packages)\n",
      "WARNING: Ignoring invalid distribution -rotobuf (c:\\users\\ssaba\\appdata\\roaming\\python\\python39\\site-packages)\n",
      "WARNING: Ignoring invalid distribution -rotobuf (c:\\users\\ssaba\\appdata\\roaming\\python\\python39\\site-packages)\n"
     ]
    }
   ],
   "source": [
    "!pip3 install leidenalg"
   ]
  }
 ],
 "metadata": {
  "kernelspec": {
   "display_name": "Python 3 (ipykernel)",
   "language": "python",
   "name": "python3"
  },
  "language_info": {
   "codemirror_mode": {
    "name": "ipython",
    "version": 3
   },
   "file_extension": ".py",
   "mimetype": "text/x-python",
   "name": "python",
   "nbconvert_exporter": "python",
   "pygments_lexer": "ipython3",
   "version": "3.9.13"
  }
 },
 "nbformat": 4,
 "nbformat_minor": 5
}
